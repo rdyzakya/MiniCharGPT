{
 "cells": [
  {
   "cell_type": "code",
   "execution_count": 71,
   "metadata": {},
   "outputs": [
    {
     "data": {
      "text/plain": [
       "<All keys matched successfully>"
      ]
     },
     "execution_count": 71,
     "metadata": {},
     "output_type": "execute_result"
    }
   ],
   "source": [
    "from model import MiniCharGPTLM\n",
    "from tokenizer import CharTokenizer\n",
    "import torch\n",
    "\n",
    "model_path = \"./model/model-hispanic.pth\"\n",
    "ckpt = torch.load(model_path)\n",
    "\n",
    "tokenizer = CharTokenizer()\n",
    "model = MiniCharGPTLM(h_dim=ckpt[\"h_dim\"],\n",
    "                      ff_dim=ckpt[\"ff_dim\"],\n",
    "                      n_head=ckpt[\"n_head\"],\n",
    "                      n_block=ckpt[\"n_block\"],\n",
    "                      n_token=len(tokenizer.char2id))\n",
    "\n",
    "model.load_state_dict(ckpt[\"state_dict\"])"
   ]
  },
  {
   "cell_type": "code",
   "execution_count": 77,
   "metadata": {},
   "outputs": [
    {
     "name": "stdout",
     "output_type": "stream",
     "text": [
      "orleote rioda\n"
     ]
    }
   ],
   "source": [
    "import random\n",
    "from data import LanguageModelingDataCollator\n",
    "from string import ascii_lowercase\n",
    "\n",
    "collator = LanguageModelingDataCollator(tokenizer=tokenizer)\n",
    "\n",
    "length = 32\n",
    "k = 3\n",
    "text = random.choice(ascii_lowercase)\n",
    "for l in range(length):\n",
    "    inputs = [tokenizer(text, truncate=True, padding=True, max_length=length)]\n",
    "\n",
    "    inputs = collator(inputs) # right shift, remove end of token, begin with padding token\n",
    "\n",
    "    inputs.pop(\"labels\")\n",
    "\n",
    "    model.eval()\n",
    "    with torch.no_grad():\n",
    "        out = model.forward(**inputs)[-1][-1]\n",
    "    \n",
    "    # top k sampling\n",
    "    out = torch.topk(out.cpu(), k).indices\n",
    "    out = random.choice(out).item()\n",
    "    next_char = tokenizer.id2char[out]\n",
    "    if next_char == tokenizer.end_token:\n",
    "        break\n",
    "    text += next_char\n",
    "print(text)"
   ]
  },
  {
   "cell_type": "code",
   "execution_count": null,
   "metadata": {},
   "outputs": [],
   "source": []
  }
 ],
 "metadata": {
  "kernelspec": {
   "display_name": "base",
   "language": "python",
   "name": "python3"
  },
  "language_info": {
   "codemirror_mode": {
    "name": "ipython",
    "version": 3
   },
   "file_extension": ".py",
   "mimetype": "text/x-python",
   "name": "python",
   "nbconvert_exporter": "python",
   "pygments_lexer": "ipython3",
   "version": "3.9.17"
  }
 },
 "nbformat": 4,
 "nbformat_minor": 2
}
