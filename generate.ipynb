{
 "cells": [
  {
   "cell_type": "code",
   "execution_count": null,
   "metadata": {},
   "outputs": [],
   "source": [
    "from model import MiniCharGPTLM\n",
    "from tokenizer import CharTokenizer\n",
    "import torch\n",
    "\n",
    "model_path = \"model.pth\"\n",
    "ckpt = torch.load(model_path)\n",
    "\n",
    "tokenizer = CharTokenizer()\n",
    "model = MiniCharGPTLM(seqlen=ckpt[\"seqlen\"],\n",
    "                      h_dim=ckpt[\"seqlen\"],\n",
    "                      ff_dim=ckpt[\"ff_dim\"],\n",
    "                      n_head=ckpt[\"n_head\"],\n",
    "                      n_block=ckpt[\"n_block\"],\n",
    "                      n_token=len(tokenizer.char2id))\n",
    "\n",
    "model.load_state_dict(ckpt[\"state_dict\"])"
   ]
  },
  {
   "cell_type": "code",
   "execution_count": null,
   "metadata": {},
   "outputs": [],
   "source": [
    "length = 10\n",
    "text = \"j\"\n",
    "for l in range(length):\n",
    "    inputs = torch.tensor(text)\n",
    "    inputs.unsqueeze(0)\n",
    "\n",
    "    model.eval()\n",
    "    with torch.no_grad():\n",
    "        out = model.forward(inputs)\n",
    "    out = out.argmax(-1).cpu().item()\n",
    "    next_char = tokenizer.id2char[out]\n",
    "    text += next_char"
   ]
  },
  {
   "cell_type": "code",
   "execution_count": null,
   "metadata": {},
   "outputs": [],
   "source": [
    "print(text)"
   ]
  }
 ],
 "metadata": {
  "language_info": {
   "name": "python"
  }
 },
 "nbformat": 4,
 "nbformat_minor": 2
}
