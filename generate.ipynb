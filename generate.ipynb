{
 "cells": [
  {
   "cell_type": "code",
   "execution_count": null,
   "metadata": {},
   "outputs": [],
   "source": [
    "from model import MiniCharGPTLM\n",
    "from tokenizer import CharTokenizer\n",
    "import torch\n",
    "\n",
    "model_path = \"model.pth\"\n",
    "ckpt = torch.load(model_path)\n",
    "\n",
    "tokenizer = CharTokenizer()\n",
    "model = MiniCharGPTLM(seqlen=ckpt[\"seqlen\"],\n",
    "                      h_dim=ckpt[\"h_dim\"],\n",
    "                      ff_dim=ckpt[\"ff_dim\"],\n",
    "                      n_head=ckpt[\"n_head\"],\n",
    "                      n_block=ckpt[\"n_block\"],\n",
    "                      n_token=len(tokenizer.char2id))\n",
    "\n",
    "model.load_state_dict(ckpt[\"state_dict\"])"
   ]
  },
  {
   "cell_type": "code",
   "execution_count": null,
   "metadata": {},
   "outputs": [],
   "source": [
    "import random\n",
    "\n",
    "length = 32\n",
    "k = 2\n",
    "text = \"a\"\n",
    "for l in range(length):\n",
    "    inputs = tokenizer(text, truncate=True, padding=True, max_length=ckpt[\"seqlen\"])\n",
    "    inputs = torch.tensor(inputs)\n",
    "    inputs.unsqueeze(0)\n",
    "\n",
    "    model.eval()\n",
    "    with torch.no_grad():\n",
    "        out = model.forward(inputs)\n",
    "    \n",
    "    # top k sampling\n",
    "    out = torch.topk(out.cpu(), k).indices[0]\n",
    "    out = random.choice(out).item()\n",
    "\n",
    "    # greedy searching using k=1 or this\n",
    "    # out = out.argmax(-1).cpu().item()\n",
    "    next_char = tokenizer.id2char[out]\n",
    "    if next_char == tokenizer.end_token:\n",
    "        break\n",
    "    text += next_char"
   ]
  },
  {
   "cell_type": "code",
   "execution_count": null,
   "metadata": {},
   "outputs": [],
   "source": [
    "print(text)"
   ]
  }
 ],
 "metadata": {
  "language_info": {
   "name": "python"
  }
 },
 "nbformat": 4,
 "nbformat_minor": 2
}
